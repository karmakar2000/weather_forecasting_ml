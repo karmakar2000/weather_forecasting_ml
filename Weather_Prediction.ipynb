{
 "cells": [
  {
   "cell_type": "markdown",
   "id": "062dd125-49e2-444d-857f-80de1bf2c0eb",
   "metadata": {},
   "source": [
    "Section 1: Import Libraries"
   ]
  },
  {
   "cell_type": "code",
   "execution_count": 2,
   "id": "a5e40b6c-a7f0-40b6-b002-387bf7556721",
   "metadata": {},
   "outputs": [],
   "source": [
    "import requests # This libraries helps us to fetch data from API\n",
    "import pandas as pd # For handling and analysing data\n",
    "import numpy as np # For numerical operations\n",
    "from sklearn.model_selection import train_test_split # To split data into training and testing sets\n",
    "from sklearn.preprocessing import LabelEncoder # To convert categorical data into numerical values\n",
    "from sklearn.ensemble import RandomForestClassifier, RandomForestRegressor # Models for classification and regression tasks\n",
    "from sklearn.metrics import mean_squared_error # To measure the accuracy of our predictons\n",
    "from datetime import datetime, timedelta #To handle date and time\n",
    "import pytz"
   ]
  },
  {
   "cell_type": "code",
   "execution_count": 3,
   "id": "7d7ebcf0-d4fd-4f0a-a77d-76c3a08d7060",
   "metadata": {},
   "outputs": [],
   "source": [
    "API_KEY = 'Replace with your API key \n',
    "BASE_URL = 'https://api.openweathermap.org/data/2.5/'"
   ]
  },
  {
   "cell_type": "markdown",
   "id": "4e0681f1-8f7a-4b45-ac2b-895f3dc86717",
   "metadata": {},
   "source": [
    "1. Fetch Current Weather Data"
   ]
  },
  {
   "cell_type": "code",
   "execution_count": 4,
   "id": "069fa6ee-3e48-402f-b9e2-cebedb0e2f8a",
   "metadata": {},
   "outputs": [],
   "source": [
    "def get_current_weather(city):\n",
    "    url = f\"{BASE_URL}weather?q={city}&appid={API_KEY}&units=metric\"\n",
    "    response = requests.get(url)\n",
    "    data = response.json()\n",
    "    return {\n",
    "        'city': data['name'],\n",
    "        'current_temp': round(data['main']['temp'], 1),\n",
    "        'feels_like': round(data['main']['feels_like'], 1),\n",
    "        'temp_min': round(data['main']['temp_min'], 1),\n",
    "        'temp_max': round(data['main']['temp_max'], 1),\n",
    "        'humidity': round(data['main']['humidity'], 1),\n",
    "        'description': data['weather'][0]['description'],\n",
    "        'country': data['sys']['country'],\n",
    "        'wind_gust_dir': data['wind']['deg'],\n",
    "        'pressure': data['main']['pressure'],\n",
    "        'Wind_Gust_Speed': data['wind']['speed']\n",
    "    }"
   ]
  },
  {
   "cell_type": "markdown",
   "id": "bce4acba-9b66-4cf9-880a-373f4fec0397",
   "metadata": {},
   "source": [
    "2. Read Historical Data"
   ]
  },
  {
   "cell_type": "code",
   "execution_count": 5,
   "id": "8bfa4671-6706-4826-96f4-6be35614198c",
   "metadata": {},
   "outputs": [],
   "source": [
    "def read_historical_data(filename):\n",
    "    df = pd.read_csv(filename) \n",
    "    df = df.dropna() #remove rows with missing values\n",
    "    df = df.drop_duplicates()\n",
    "    return df"
   ]
  },
  {
   "cell_type": "markdown",
   "id": "9a47dc73-b61a-4538-a163-212258b5c0db",
   "metadata": {},
   "source": [
    "3. Prepare data for training"
   ]
  },
  {
   "cell_type": "code",
   "execution_count": 6,
   "id": "9a3935b6-ae31-47d9-a396-7cda2f500cd2",
   "metadata": {},
   "outputs": [],
   "source": [
    "def prepare_data(data):\n",
    "    le = LabelEncoder() # Create a LabelEncoder instance\n",
    "    data['WindGustDir'] = le.fit_transform(data['WindGustDir'])\n",
    "    data['RainTomorrow'] = le.fit_transform(data['RainTomorrow'])\n",
    "\n",
    "    # Define the feature variable and target variables\n",
    "    x = data[['MinTemp', 'MaxTemp','WindGustDir', 'WindGustSpeed', 'Humidity', 'Pressure', 'Temp']] #Feature Variable\n",
    "    y = data['RainTomorrow']\n",
    "    return x, y, le\n",
    "    "
   ]
  },
  {
   "cell_type": "markdown",
   "id": "4dbff89e-ffea-4af2-8cf9-6eea05f79683",
   "metadata": {},
   "source": [
    "4. Train Rain Prediction Model"
   ]
  },
  {
   "cell_type": "code",
   "execution_count": 7,
   "id": "99857922-781c-4816-ac9e-53b04f5e9988",
   "metadata": {},
   "outputs": [],
   "source": [
    "def train_rain_model(x, y):\n",
    "    x_train, x_test, y_train, y_test = train_test_split(x, y, test_size=0.2, random_state=42)\n",
    "    model = RandomForestClassifier(n_estimators=100, random_state=42)\n",
    "    model.fit(x_train, y_train)\n",
    "\n",
    "    y_pred = model.predict(x_test)\n",
    "    print(\"Mean Squared Error For Rain Model\")\n",
    "\n",
    "    print(mean_squared_error(y_test, y_pred))\n",
    "\n",
    "    return model"
   ]
  },
  {
   "cell_type": "markdown",
   "id": "7f8cb926-e5d7-47ac-8155-be542ac3e09e",
   "metadata": {},
   "source": [
    "5. Prepare Regression Data"
   ]
  },
  {
   "cell_type": "code",
   "execution_count": 8,
   "id": "b3969925-be10-47c5-950e-4611f75126fb",
   "metadata": {},
   "outputs": [],
   "source": [
    "def prepare_regression_data(data, feature):\n",
    "    x, y = [], [] # Initialize list for feature and target values\n",
    "\n",
    "    for i in range(len(data) - 1):\n",
    "        x.append(data[feature].iloc[i])\n",
    "\n",
    "        y.append(data[feature].iloc[i+1])\n",
    "    x = np.array(x).reshape(-1,1)\n",
    "    y = np.array(y)\n",
    "    return x,y"
   ]
  },
  {
   "cell_type": "markdown",
   "id": "9508ee29-1f16-4314-8842-3319e9a36a40",
   "metadata": {},
   "source": [
    "6. Train Regression Model"
   ]
  },
  {
   "cell_type": "code",
   "execution_count": 9,
   "id": "7bc72f3e-a22d-40b6-b639-3c07c231b867",
   "metadata": {},
   "outputs": [],
   "source": [
    "def train_regression_model(x, y):\n",
    "    model = RandomForestRegressor(n_estimators=100, random_state=42)\n",
    "    model.fit(x,y)\n",
    "    return model"
   ]
  },
  {
   "cell_type": "markdown",
   "id": "b8f1208c-6408-4a61-8ca8-512a2baefd17",
   "metadata": {},
   "source": [
    "7. Predict Future"
   ]
  },
  {
   "cell_type": "code",
   "execution_count": 10,
   "id": "c133a2bd-54c4-4c79-88c9-d7f29605d4a2",
   "metadata": {},
   "outputs": [],
   "source": [
    "def predict_future(model, current_value):\n",
    "    predictions = [current_value]\n",
    "\n",
    "    for i in range(5):\n",
    "        next_value = model.predict(np.array([[predictions[-1]]]))\n",
    "        predictions.append(next_value[0])\n",
    "    return predictions[1:]"
   ]
  },
  {
   "cell_type": "markdown",
   "id": "591cf55f-871c-4f43-81e4-ecb4cd6801d8",
   "metadata": {},
   "source": [
    "8. Weather Analysis"
   ]
  },
  {
   "cell_type": "code",
   "execution_count": 17,
   "id": "29b06d57-8bd1-487b-b70a-a2a0db87f24c",
   "metadata": {},
   "outputs": [
    {
     "name": "stdin",
     "output_type": "stream",
     "text": [
      "Enter City Name:  Bangalore\n"
     ]
    },
    {
     "name": "stdout",
     "output_type": "stream",
     "text": [
      "Mean Squared Error For Rain Model\n",
      "0.1506849315068493\n",
      "\n",
      "City: Bangalore, IN\n",
      "Current Temperature: 25.2°C\n",
      "Feels Like: 25.4°C\n",
      "Minimum Temperature: 25.2°C\n",
      "Maximum Temperature: 25.2°C\n",
      "Humidity: 62%\n",
      "Weather Description: overcast clouds\n",
      "Rain Prediction: Yes\n",
      "\n",
      "Future Temperature Predictions:\n",
      "14:00: 20.1°C\n",
      "15:00: 21.9°C\n",
      "16:00: 21.3°C\n",
      "17:00: 20.5°C\n",
      "18:00: 22.2°C\n",
      "\n",
      "Future Humidity Predictions:\n",
      "14:00: 56.5%\n",
      "15:00: 40.7%\n",
      "16:00: 52.9%\n",
      "17:00: 51.0%\n",
      "18:00: 46.6%\n"
     ]
    }
   ],
   "source": [
    "def weather_view():\n",
    "    city = input(\"Enter City Name: \").strip()\n",
    "    current_weather = get_current_weather(city)\n",
    "\n",
    "    # Load historical data\n",
    "    historical_data = read_historical_data('weather.csv')  # Ensure this file exists in the same directory\n",
    "\n",
    "    # Prepare and train the rain prediction model\n",
    "    x, y, le = prepare_data(historical_data)\n",
    "    rain_model = train_rain_model(x, y)\n",
    "\n",
    "    # Map wind direction to compass points\n",
    "    wind_deg = current_weather['wind_gust_dir'] % 360\n",
    "    compass_points = [\n",
    "        (\"N\", 0, 11.25), (\"NNE\", 11.25, 33.75), (\"NE\", 33.75, 56.25),\n",
    "        (\"ENE\", 56.25, 78.75), (\"E\", 78.75, 101.25), (\"ESE\", 101.25, 123.75),\n",
    "        (\"SE\", 123.75, 146.25), (\"SSE\", 146.25, 168.75), (\"S\", 168.75, 191.25),\n",
    "        (\"SSW\", 191.25, 213.75), (\"SW\", 213.75, 236.25), (\"WSW\", 236.25, 258.75),\n",
    "        (\"W\", 258.75, 281.25), (\"WNW\", 281.25, 303.75), (\"NW\", 303.75, 326.25),\n",
    "        (\"NNW\", 326.25, 348.75), (\"N\", 348.75, 360)\n",
    "    ]\n",
    "    compass_direction = next(point for point, start, end in compass_points if start <= wind_deg < end)\n",
    "    compass_direction_encoded = le.transform([compass_direction])[0] if compass_direction in le.classes_ else -1\n",
    "\n",
    "    # Build current data input for prediction\n",
    "    current_data = {\n",
    "        'MinTemp': current_weather['temp_min'],\n",
    "        'MaxTemp': current_weather['temp_max'],\n",
    "        'WindGustDir': compass_direction_encoded,\n",
    "        'WindGustSpeed': current_weather['Wind_Gust_Speed'],\n",
    "        'Humidity': current_weather['humidity'],\n",
    "        'Pressure': current_weather['pressure'],\n",
    "        'Temp': current_weather['current_temp'],\n",
    "    }\n",
    "\n",
    "    current_df = pd.DataFrame([current_data])\n",
    "\n",
    "    # Predict rain\n",
    "    rain_prediction = rain_model.predict(current_df)[0]\n",
    "\n",
    "    # Prepare regression models for temperature and humidity\n",
    "    x_temp, y_temp = prepare_regression_data(historical_data, 'Temp')\n",
    "    x_hum, y_hum = prepare_regression_data(historical_data, 'Humidity')\n",
    "\n",
    "    temp_model = train_regression_model(x_temp, y_temp)\n",
    "    hum_model = train_regression_model(x_hum, y_hum)\n",
    "\n",
    "    # Predict future temperature and humidity\n",
    "    future_temp = predict_future(temp_model, current_weather['temp_min'])\n",
    "    future_humidity = predict_future(hum_model, current_weather['humidity'])\n",
    "\n",
    "    # Generate future time labels\n",
    "    timezone = pytz.timezone('Asia/Kolkata')\n",
    "    now = datetime.now(timezone)\n",
    "    next_hour = now + timedelta(hours=1)\n",
    "    next_hour = next_hour.replace(minute=0, second=0, microsecond=0)\n",
    "    future_times = [(next_hour + timedelta(hours=i)).strftime(\"%H:00\") for i in range(5)]\n",
    "\n",
    "    # Display the results\n",
    "    print(f\"\\nCity: {city}, {current_weather['country']}\")\n",
    "    print(f\"Current Temperature: {current_weather['current_temp']}°C\")\n",
    "    print(f\"Feels Like: {current_weather['feels_like']}°C\")\n",
    "    print(f\"Minimum Temperature: {current_weather['temp_min']}°C\")\n",
    "    print(f\"Maximum Temperature: {current_weather['temp_max']}°C\")\n",
    "    print(f\"Humidity: {current_weather['humidity']}%\")\n",
    "    print(f\"Weather Description: {current_weather['description']}\")\n",
    "    print(f\"Rain Prediction: {'Yes' if rain_prediction else 'No'}\")\n",
    "\n",
    "    print(\"\\nFuture Temperature Predictions:\")\n",
    "    for time, temp in zip(future_times, future_temp):\n",
    "        print(f\"{time}: {round(temp, 1)}°C\")\n",
    "\n",
    "    print(\"\\nFuture Humidity Predictions:\")\n",
    "    for time, humidity in zip(future_times, future_humidity):\n",
    "        print(f\"{time}: {round(humidity, 1)}%\")\n",
    "\n",
    "\n",
    "# Run the function\n",
    "weather_view()\n"
   ]
  },
  {
   "cell_type": "code",
   "execution_count": null,
   "id": "dcd3d4cc-9b62-401a-8b92-7f420a444628",
   "metadata": {},
   "outputs": [],
   "source": []
  }
 ],
 "metadata": {
  "kernelspec": {
   "display_name": "Python 3 (ipykernel)",
   "language": "python",
   "name": "python3"
  },
  "language_info": {
   "codemirror_mode": {
    "name": "ipython",
    "version": 3
   },
   "file_extension": ".py",
   "mimetype": "text/x-python",
   "name": "python",
   "nbconvert_exporter": "python",
   "pygments_lexer": "ipython3",
   "version": "3.13.3"
  }
 },
 "nbformat": 4,
 "nbformat_minor": 5
}
